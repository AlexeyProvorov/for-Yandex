{
  "nbformat": 4,
  "nbformat_minor": 0,
  "metadata": {
    "colab": {
      "name": "Yandex + candies.ipynb",
      "provenance": [],
      "collapsed_sections": [],
      "authorship_tag": "ABX9TyPhZV18Ja7M7K30GeYI2TT9",
      "include_colab_link": true
    },
    "kernelspec": {
      "name": "python3",
      "display_name": "Python 3"
    }
  },
  "cells": [
    {
      "cell_type": "markdown",
      "metadata": {
        "id": "view-in-github",
        "colab_type": "text"
      },
      "source": [
        "<a href=\"https://colab.research.google.com/github/LeoProvorov/for-Yandex/blob/main/Yandex_%2B_candies.ipynb\" target=\"_parent\"><img src=\"https://colab.research.google.com/assets/colab-badge.svg\" alt=\"Open In Colab\"/></a>"
      ]
    },
    {
      "cell_type": "markdown",
      "metadata": {
        "id": "hQrfUvuVRCQG"
      },
      "source": [
        "# Hello, dear friends from Yandex!"
      ]
    },
    {
      "cell_type": "code",
      "metadata": {
        "id": "SV4leOAJJsxZ"
      },
      "source": [
        "import pandas as pd\r\n",
        "import numpy as np"
      ],
      "execution_count": null,
      "outputs": []
    },
    {
      "cell_type": "code",
      "metadata": {
        "id": "wowzQGfI7QsW"
      },
      "source": [
        "a = list(input())\r\n"
      ],
      "execution_count": null,
      "outputs": []
    },
    {
      "cell_type": "code",
      "metadata": {
        "id": "RzcUXAs4-FGv"
      },
      "source": [
        "all = np.array(a)\r\n",
        "uniq = np.unique(all)\r\n",
        "df_unique = pd.DataFrame(columns=uniq)\r\n",
        "df_unique.loc[0] = 0"
      ],
      "execution_count": null,
      "outputs": []
    },
    {
      "cell_type": "code",
      "metadata": {
        "id": "MlaG-3wf-gaG"
      },
      "source": [
        "for i in all:\r\n",
        "    if i in uniq:\r\n",
        "        df_unique.loc[0, i] += 1\r\n",
        "counter_friends = int(df_unique.min(1))"
      ],
      "execution_count": null,
      "outputs": []
    },
    {
      "cell_type": "code",
      "metadata": {
        "id": "PiGUaCqqFPvU"
      },
      "source": [
        "\r\n",
        "print(f'''I have {counter_friends} friend.\r\n",
        "And everyone gets {len(uniq)} candy.\r\n",
        "It's sad that I have so few friends and candy = (\r\n",
        "\r\n",
        "Happy New Year, my dear friends!!\r\n",
        "And be healthy!''')"
      ],
      "execution_count": null,
      "outputs": []
    },
    {
      "cell_type": "code",
      "metadata": {
        "id": "U2au6poDVpo0"
      },
      "source": [
        ""
      ],
      "execution_count": null,
      "outputs": []
    }
  ]
}